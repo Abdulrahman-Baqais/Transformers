{
 "cells": [
  {
   "cell_type": "code",
   "execution_count": 1,
   "metadata": {},
   "outputs": [
    {
     "name": "stdout",
     "output_type": "stream",
     "text": [
      "The vocabulary size is 10 \n",
      "The document-term matrix shape is(3, 10)\n"
     ]
    }
   ],
   "source": [
    "from sklearn.feature_extraction.text import TfidfVectorizer\n",
    "import numpy as np\n",
    "import pandas as pd\n",
    "toy_corpus= [\"the fat cat sat on the mat\",\n",
    "             \"the big cat slept\",\n",
    "             \"the dog chased a cat\"]\n",
    "vectorizer=TfidfVectorizer()\n",
    "corpus_tfidf=vectorizer.fit_transform(toy_corpus)\n",
    "print(f\"The vocabulary size is \\\n",
    "{len(vectorizer.vocabulary_.keys())} \")\n",
    "print(f\"The document-term matrix shape is\\\n",
    "{corpus_tfidf.shape}\")\n",
    "df=pd.DataFrame(np.round(corpus_tfidf.toarray(),2))\n",
    "df.columns=vectorizer.get_feature_names()"
   ]
  },
  {
   "cell_type": "code",
   "execution_count": null,
   "metadata": {},
   "outputs": [],
   "source": []
  }
 ],
 "metadata": {
  "kernelspec": {
   "display_name": "Python 3",
   "language": "python",
   "name": "python3"
  },
  "language_info": {
   "codemirror_mode": {
    "name": "ipython",
    "version": 3
   },
   "file_extension": ".py",
   "mimetype": "text/x-python",
   "name": "python",
   "nbconvert_exporter": "python",
   "pygments_lexer": "ipython3",
   "version": "3.6.5"
  }
 },
 "nbformat": 4,
 "nbformat_minor": 2
}
